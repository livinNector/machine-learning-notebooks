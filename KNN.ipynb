{
 "cells": [
  {
   "cell_type": "markdown",
   "metadata": {},
   "source": [
    "# K - Nearest Neighbours Implementation (One line classifier)\n",
    "\n",
    "> By **Livin Nector D**"
   ]
  },
  {
   "cell_type": "markdown",
   "metadata": {},
   "source": [
    "## Importing Modules"
   ]
  },
  {
   "cell_type": "code",
   "execution_count": 1,
   "metadata": {},
   "outputs": [],
   "source": [
    "import numpy as np\n",
    "import pandas as pd"
   ]
  },
  {
   "cell_type": "markdown",
   "metadata": {},
   "source": [
    "## Class for KNN Classifier"
   ]
  },
  {
   "cell_type": "code",
   "execution_count": 2,
   "metadata": {},
   "outputs": [],
   "source": [
    "def euclidian_dist(p1,p2):\n",
    "    return np.linalg.norm(p1-p2[...,np.newaxis,:],axis=-1)"
   ]
  },
  {
   "cell_type": "code",
   "execution_count": 3,
   "metadata": {},
   "outputs": [],
   "source": [
    "class KNNClassifier:\n",
    "    def __init__(self,train_x,train_y,k=3,dist=euclidian_dist):\n",
    "        self.train_x = train_x\n",
    "        self.train_y = train_y\n",
    "        self.classes = np.unique(train_y)\n",
    "        self.k = k\n",
    "        self.dist = dist\n",
    "    \n",
    "    def classify(self,test_point):\n",
    "        return np.argmax(\n",
    "            np.sum(\n",
    "                self.train_y[np.argsort(self.dist(self.train_x,test_point))[...,:self.k]][...,np.newaxis,:] \\\n",
    "                == self.classes.reshape(-1,1),\n",
    "                axis = -1\n",
    "            ),\n",
    "            axis=-1\n",
    "        )"
   ]
  },
  {
   "cell_type": "markdown",
   "metadata": {},
   "source": [
    "## Loading the dataset"
   ]
  },
  {
   "cell_type": "code",
   "execution_count": 4,
   "metadata": {},
   "outputs": [],
   "source": [
    "df = pd.read_csv(\"pima-indians-diabetes.csv\")"
   ]
  },
  {
   "cell_type": "code",
   "execution_count": 5,
   "metadata": {},
   "outputs": [
    {
     "data": {
      "text/html": [
       "<div>\n",
       "<style scoped>\n",
       "    .dataframe tbody tr th:only-of-type {\n",
       "        vertical-align: middle;\n",
       "    }\n",
       "\n",
       "    .dataframe tbody tr th {\n",
       "        vertical-align: top;\n",
       "    }\n",
       "\n",
       "    .dataframe thead th {\n",
       "        text-align: right;\n",
       "    }\n",
       "</style>\n",
       "<table border=\"1\" class=\"dataframe\">\n",
       "  <thead>\n",
       "    <tr style=\"text-align: right;\">\n",
       "      <th></th>\n",
       "      <th>1. Number of times pregnant</th>\n",
       "      <th>2. Plasma glucose concentration a 2 hours in an oral glucose tolerance test</th>\n",
       "      <th>3. Diastolic blood pressure (mm Hg)</th>\n",
       "      <th>4. Triceps skin fold thickness (mm)</th>\n",
       "      <th>5. 2-Hour serum insulin (mu U/ml)</th>\n",
       "      <th>6. Body mass index (weight in kg/(height in m)^2)</th>\n",
       "      <th>7. Diabetes pedigree function</th>\n",
       "      <th>8. Age (years)</th>\n",
       "      <th>9. Class variable (0 or 1)</th>\n",
       "    </tr>\n",
       "  </thead>\n",
       "  <tbody>\n",
       "    <tr>\n",
       "      <th>0</th>\n",
       "      <td>6</td>\n",
       "      <td>148</td>\n",
       "      <td>72</td>\n",
       "      <td>35</td>\n",
       "      <td>0</td>\n",
       "      <td>33.6</td>\n",
       "      <td>0.627</td>\n",
       "      <td>50</td>\n",
       "      <td>1</td>\n",
       "    </tr>\n",
       "    <tr>\n",
       "      <th>1</th>\n",
       "      <td>1</td>\n",
       "      <td>85</td>\n",
       "      <td>66</td>\n",
       "      <td>29</td>\n",
       "      <td>0</td>\n",
       "      <td>26.6</td>\n",
       "      <td>0.351</td>\n",
       "      <td>31</td>\n",
       "      <td>0</td>\n",
       "    </tr>\n",
       "    <tr>\n",
       "      <th>2</th>\n",
       "      <td>8</td>\n",
       "      <td>183</td>\n",
       "      <td>64</td>\n",
       "      <td>0</td>\n",
       "      <td>0</td>\n",
       "      <td>23.3</td>\n",
       "      <td>0.672</td>\n",
       "      <td>32</td>\n",
       "      <td>1</td>\n",
       "    </tr>\n",
       "    <tr>\n",
       "      <th>3</th>\n",
       "      <td>1</td>\n",
       "      <td>89</td>\n",
       "      <td>66</td>\n",
       "      <td>23</td>\n",
       "      <td>94</td>\n",
       "      <td>28.1</td>\n",
       "      <td>0.167</td>\n",
       "      <td>21</td>\n",
       "      <td>0</td>\n",
       "    </tr>\n",
       "    <tr>\n",
       "      <th>4</th>\n",
       "      <td>0</td>\n",
       "      <td>137</td>\n",
       "      <td>40</td>\n",
       "      <td>35</td>\n",
       "      <td>168</td>\n",
       "      <td>43.1</td>\n",
       "      <td>2.288</td>\n",
       "      <td>33</td>\n",
       "      <td>1</td>\n",
       "    </tr>\n",
       "  </tbody>\n",
       "</table>\n",
       "</div>"
      ],
      "text/plain": [
       "   1. Number of times pregnant  \\\n",
       "0                            6   \n",
       "1                            1   \n",
       "2                            8   \n",
       "3                            1   \n",
       "4                            0   \n",
       "\n",
       "   2. Plasma glucose concentration a 2 hours in an oral glucose tolerance test  \\\n",
       "0                                                148                             \n",
       "1                                                 85                             \n",
       "2                                                183                             \n",
       "3                                                 89                             \n",
       "4                                                137                             \n",
       "\n",
       "   3. Diastolic blood pressure (mm Hg)  4. Triceps skin fold thickness (mm)  \\\n",
       "0                                   72                                   35   \n",
       "1                                   66                                   29   \n",
       "2                                   64                                    0   \n",
       "3                                   66                                   23   \n",
       "4                                   40                                   35   \n",
       "\n",
       "   5. 2-Hour serum insulin (mu U/ml)  \\\n",
       "0                                  0   \n",
       "1                                  0   \n",
       "2                                  0   \n",
       "3                                 94   \n",
       "4                                168   \n",
       "\n",
       "   6. Body mass index (weight in kg/(height in m)^2)  \\\n",
       "0                                               33.6   \n",
       "1                                               26.6   \n",
       "2                                               23.3   \n",
       "3                                               28.1   \n",
       "4                                               43.1   \n",
       "\n",
       "   7. Diabetes pedigree function  8. Age (years)  9. Class variable (0 or 1)  \n",
       "0                          0.627              50                           1  \n",
       "1                          0.351              31                           0  \n",
       "2                          0.672              32                           1  \n",
       "3                          0.167              21                           0  \n",
       "4                          2.288              33                           1  "
      ]
     },
     "execution_count": 5,
     "metadata": {},
     "output_type": "execute_result"
    }
   ],
   "source": [
    "df.head()"
   ]
  },
  {
   "cell_type": "markdown",
   "metadata": {},
   "source": [
    "## Spliting Training and Testing data"
   ]
  },
  {
   "cell_type": "code",
   "execution_count": 6,
   "metadata": {},
   "outputs": [],
   "source": [
    "X = df.iloc[:,:-1].values\n",
    "y = df.iloc[:,-1].values\n",
    "\n",
    "split_ratio = .7\n",
    "sl = int(X.shape[0]*split_ratio)\n",
    "X_train,y_train = X[:sl],y[:sl]\n",
    "X_test,y_test = X[sl:],y[sl:]"
   ]
  },
  {
   "cell_type": "markdown",
   "metadata": {},
   "source": [
    "## Implementing the classifier"
   ]
  },
  {
   "cell_type": "code",
   "execution_count": 7,
   "metadata": {},
   "outputs": [],
   "source": [
    "diabetes_predictor = KNNClassifier(X_train,y_train)\n",
    "y_pred = diabetes_predictor.classify(X_test)"
   ]
  },
  {
   "cell_type": "markdown",
   "metadata": {},
   "source": [
    "## Evaluating the model"
   ]
  },
  {
   "cell_type": "code",
   "execution_count": 8,
   "metadata": {},
   "outputs": [
    {
     "name": "stdout",
     "output_type": "stream",
     "text": [
      "Acuracy of the classifier is : 0.7186147186147186\n"
     ]
    }
   ],
   "source": [
    "print(\"Acuracy of the classifier is :\",(y_pred == y_test).mean())"
   ]
  }
 ],
 "metadata": {
  "kernelspec": {
   "display_name": "Python 3",
   "language": "python",
   "name": "python3"
  },
  "language_info": {
   "codemirror_mode": {
    "name": "ipython",
    "version": 3
   },
   "file_extension": ".py",
   "mimetype": "text/x-python",
   "name": "python",
   "nbconvert_exporter": "python",
   "pygments_lexer": "ipython3",
   "version": "3.8.3"
  }
 },
 "nbformat": 4,
 "nbformat_minor": 4
}
