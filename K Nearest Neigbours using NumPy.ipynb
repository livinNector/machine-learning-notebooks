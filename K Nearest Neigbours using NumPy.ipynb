{
 "cells": [
  {
   "cell_type": "markdown",
   "metadata": {
    "tags": []
   },
   "source": [
    "# K - Nearest Neighbours Implementation (KNN)"
   ]
  },
  {
   "cell_type": "markdown",
   "metadata": {},
   "source": [
    "This notebook explains various NumPy techniques that can be used to implement the KNN algorithm from scratch."
   ]
  },
  {
   "cell_type": "markdown",
   "metadata": {
    "tags": [],
    "toc-hr-collapsed": true
   },
   "source": [
    "## About K - Nearest Neighbours"
   ]
  },
  {
   "cell_type": "markdown",
   "metadata": {},
   "source": [
    "K - Nearest Neighbours is a non-parameteric machine learning algorithm which can be used for both classification and regression. Here $k$ is the hyper parameter for the model. This model is usually evaluated with different values of $k$ to find the best value of the $k$. It uses distance measuring function (which computes the similarities between the points). Typically a squared euclidean distance is used.\n",
    "\n",
    "### Training:\n",
    "Since KNN uses the raw data points for prediction, there is no model training occurs. we just simply store the Training points as it is.\n",
    "### Classification:\n",
    "1. Calculate the distance between test point $\\mathbf{\\hat x}$ and all the points $\\mathbf{x_i}$ in the training set.\n",
    "2. Argsort the distances and take the first k values inorder to find the indices of the K nearest neighbours from the training set.\n",
    "3. Predict the class of the test point $\\hat y$ by majority voting(i.e, the class with most occurences), using the classes $y_i$ of the k nearest neighbours.\n",
    "\n",
    "### Regression:\n",
    "1. Step 1 and 2 is same as for classification.\n",
    "2. Predict the value of $\\hat y$ by computing the mean of the $y_i$ of the k nearest neighbours."
   ]
  },
  {
   "cell_type": "markdown",
   "metadata": {
    "tags": []
   },
   "source": [
    "## Importing Modules"
   ]
  },
  {
   "cell_type": "markdown",
   "metadata": {
    "heading_collapsed": "true",
    "tags": [
     "start"
    ]
   },
   "source": [
    "Lets import all the required modules. This notebook only uses NumPy for the KNN algorithm. Pandas is just used for loading  the dataset."
   ]
  },
  {
   "cell_type": "markdown",
   "metadata": {},
   "source": [
    "### Version info"
   ]
  },
  {
   "cell_type": "code",
   "execution_count": 67,
   "metadata": {},
   "outputs": [
    {
     "name": "stdout",
     "output_type": "stream",
     "text": [
      "numpy                              1.21.0\n",
      "pandas                             1.3.0\n",
      "scipy                              1.7.0\n"
     ]
    }
   ],
   "source": [
    "!pip list scipy | grep -E '(numpy|scipy|pandas) '"
   ]
  },
  {
   "cell_type": "code",
   "execution_count": 68,
   "metadata": {},
   "outputs": [
    {
     "name": "stdout",
     "output_type": "stream",
     "text": [
      "numpy == 1.21.0\n",
      "scipy == 1.7.0\n",
      "pandas == 1.3.0\n"
     ]
    }
   ],
   "source": [
    "import numpy as np\n",
    "import pandas as pd\n",
    "import scipy as sp\n",
    "print(f'numpy == {np.__version__}',f'scipy == {sp.__version__}', f'pandas == {pd.__version__}',sep='\\n')"
   ]
  },
  {
   "cell_type": "markdown",
   "metadata": {
    "tags": []
   },
   "source": [
    "# KNN Classification"
   ]
  },
  {
   "cell_type": "markdown",
   "metadata": {
    "tags": []
   },
   "source": [
    "## Loading and processing the Diabetes dataset(For Classification)"
   ]
  },
  {
   "cell_type": "markdown",
   "metadata": {},
   "source": [
    "Now lets load the pima indians diabetes dataset using Pandas. As the dataset is loaded as pd.DataFrame, we use variable `diabetes_df` for stroing the dataset. "
   ]
  },
  {
   "cell_type": "markdown",
   "metadata": {},
   "source": [
    "**Note:** The suffix \"df\"(short for DataFrame) is used with pd.DataFrame objects to differentiate them."
   ]
  },
  {
   "cell_type": "code",
   "execution_count": 2,
   "metadata": {},
   "outputs": [
    {
     "data": {
      "text/html": [
       "<div>\n",
       "<style scoped>\n",
       "    .dataframe tbody tr th:only-of-type {\n",
       "        vertical-align: middle;\n",
       "    }\n",
       "\n",
       "    .dataframe tbody tr th {\n",
       "        vertical-align: top;\n",
       "    }\n",
       "\n",
       "    .dataframe thead th {\n",
       "        text-align: right;\n",
       "    }\n",
       "</style>\n",
       "<table border=\"1\" class=\"dataframe\">\n",
       "  <thead>\n",
       "    <tr style=\"text-align: right;\">\n",
       "      <th></th>\n",
       "      <th>1. Number of times pregnant</th>\n",
       "      <th>2. Plasma glucose concentration a 2 hours in an oral glucose tolerance test</th>\n",
       "      <th>3. Diastolic blood pressure (mm Hg)</th>\n",
       "      <th>4. Triceps skin fold thickness (mm)</th>\n",
       "      <th>5. 2-Hour serum insulin (mu U/ml)</th>\n",
       "      <th>6. Body mass index (weight in kg/(height in m)^2)</th>\n",
       "      <th>7. Diabetes pedigree function</th>\n",
       "      <th>8. Age (years)</th>\n",
       "      <th>9. Class variable (0 or 1)</th>\n",
       "    </tr>\n",
       "  </thead>\n",
       "  <tbody>\n",
       "    <tr>\n",
       "      <th>0</th>\n",
       "      <td>6</td>\n",
       "      <td>148</td>\n",
       "      <td>72</td>\n",
       "      <td>35</td>\n",
       "      <td>0</td>\n",
       "      <td>33.6</td>\n",
       "      <td>0.627</td>\n",
       "      <td>50</td>\n",
       "      <td>1</td>\n",
       "    </tr>\n",
       "    <tr>\n",
       "      <th>1</th>\n",
       "      <td>1</td>\n",
       "      <td>85</td>\n",
       "      <td>66</td>\n",
       "      <td>29</td>\n",
       "      <td>0</td>\n",
       "      <td>26.6</td>\n",
       "      <td>0.351</td>\n",
       "      <td>31</td>\n",
       "      <td>0</td>\n",
       "    </tr>\n",
       "    <tr>\n",
       "      <th>2</th>\n",
       "      <td>8</td>\n",
       "      <td>183</td>\n",
       "      <td>64</td>\n",
       "      <td>0</td>\n",
       "      <td>0</td>\n",
       "      <td>23.3</td>\n",
       "      <td>0.672</td>\n",
       "      <td>32</td>\n",
       "      <td>1</td>\n",
       "    </tr>\n",
       "    <tr>\n",
       "      <th>3</th>\n",
       "      <td>1</td>\n",
       "      <td>89</td>\n",
       "      <td>66</td>\n",
       "      <td>23</td>\n",
       "      <td>94</td>\n",
       "      <td>28.1</td>\n",
       "      <td>0.167</td>\n",
       "      <td>21</td>\n",
       "      <td>0</td>\n",
       "    </tr>\n",
       "    <tr>\n",
       "      <th>4</th>\n",
       "      <td>0</td>\n",
       "      <td>137</td>\n",
       "      <td>40</td>\n",
       "      <td>35</td>\n",
       "      <td>168</td>\n",
       "      <td>43.1</td>\n",
       "      <td>2.288</td>\n",
       "      <td>33</td>\n",
       "      <td>1</td>\n",
       "    </tr>\n",
       "  </tbody>\n",
       "</table>\n",
       "</div>"
      ],
      "text/plain": [
       "   1. Number of times pregnant  \\\n",
       "0                            6   \n",
       "1                            1   \n",
       "2                            8   \n",
       "3                            1   \n",
       "4                            0   \n",
       "\n",
       "   2. Plasma glucose concentration a 2 hours in an oral glucose tolerance test  \\\n",
       "0                                                148                             \n",
       "1                                                 85                             \n",
       "2                                                183                             \n",
       "3                                                 89                             \n",
       "4                                                137                             \n",
       "\n",
       "   3. Diastolic blood pressure (mm Hg)  4. Triceps skin fold thickness (mm)  \\\n",
       "0                                   72                                   35   \n",
       "1                                   66                                   29   \n",
       "2                                   64                                    0   \n",
       "3                                   66                                   23   \n",
       "4                                   40                                   35   \n",
       "\n",
       "   5. 2-Hour serum insulin (mu U/ml)  \\\n",
       "0                                  0   \n",
       "1                                  0   \n",
       "2                                  0   \n",
       "3                                 94   \n",
       "4                                168   \n",
       "\n",
       "   6. Body mass index (weight in kg/(height in m)^2)  \\\n",
       "0                                               33.6   \n",
       "1                                               26.6   \n",
       "2                                               23.3   \n",
       "3                                               28.1   \n",
       "4                                               43.1   \n",
       "\n",
       "   7. Diabetes pedigree function  8. Age (years)  9. Class variable (0 or 1)  \n",
       "0                          0.627              50                           1  \n",
       "1                          0.351              31                           0  \n",
       "2                          0.672              32                           1  \n",
       "3                          0.167              21                           0  \n",
       "4                          2.288              33                           1  "
      ]
     },
     "execution_count": 2,
     "metadata": {},
     "output_type": "execute_result"
    }
   ],
   "source": [
    "diabetes_df = pd.read_csv(\"datasets/pima-indians-diabetes.csv\")\n",
    "diabetes_df.head()"
   ]
  },
  {
   "cell_type": "markdown",
   "metadata": {
    "tags": []
   },
   "source": [
    "### X - y split"
   ]
  },
  {
   "cell_type": "code",
   "execution_count": 3,
   "metadata": {},
   "outputs": [],
   "source": [
    "X = diabetes_df.iloc[:,:-1].values\n",
    "y = diabetes_df.iloc[:,-1].values"
   ]
  },
  {
   "cell_type": "markdown",
   "metadata": {
    "tags": []
   },
   "source": [
    "### Min - Max Normalization (Min - Max scaling)"
   ]
  },
  {
   "cell_type": "markdown",
   "metadata": {},
   "source": [
    "Min-Max Normalization or Min-Max Scaling is one of the feature scaling methods, which scales the features to a range of 0-1.\n",
    "Which is mathematically represented as:\n",
    "$$\n",
    "\\text{MimMax}(\\mathbf{x}) = \\frac{\\mathbf{x} -\\min (\\mathbf{x})}{\\max (\\mathbf{x}) -\\min (\\mathbf{x})}\n",
    "$$"
   ]
  },
  {
   "cell_type": "code",
   "execution_count": 4,
   "metadata": {},
   "outputs": [],
   "source": [
    "def min_max_scale(X):\n",
    "    X_min, X_max = X.min(axis = 0) , X.max(axis =0)\n",
    "    return (X-X_min)/(X_max-X_min)"
   ]
  },
  {
   "cell_type": "code",
   "execution_count": 5,
   "metadata": {},
   "outputs": [
    {
     "data": {
      "text/plain": [
       "array([[0.35294118, 0.74371859, 0.59016393, ..., 0.50074516, 0.23441503,\n",
       "        0.48333333],\n",
       "       [0.05882353, 0.42713568, 0.54098361, ..., 0.39642325, 0.11656704,\n",
       "        0.16666667],\n",
       "       [0.47058824, 0.91959799, 0.52459016, ..., 0.34724292, 0.25362938,\n",
       "        0.18333333],\n",
       "       ...,\n",
       "       [0.29411765, 0.6080402 , 0.59016393, ..., 0.390462  , 0.07130658,\n",
       "        0.15      ],\n",
       "       [0.05882353, 0.63316583, 0.49180328, ..., 0.4485842 , 0.11571307,\n",
       "        0.43333333],\n",
       "       [0.05882353, 0.46733668, 0.57377049, ..., 0.45305514, 0.10119556,\n",
       "        0.03333333]])"
      ]
     },
     "execution_count": 5,
     "metadata": {},
     "output_type": "execute_result"
    }
   ],
   "source": [
    "X = min_max_scale(X)\n",
    "X"
   ]
  },
  {
   "cell_type": "markdown",
   "metadata": {},
   "source": [
    "### Train - Test split"
   ]
  },
  {
   "cell_type": "code",
   "execution_count": 6,
   "metadata": {},
   "outputs": [],
   "source": [
    "def train_test_split(X,y,split_ratio=.7,shuffle=False):\n",
    "    sl = int(X.shape[0]*split_ratio)\n",
    "    if shuffle:\n",
    "        indices = np.arange(X.shape[0])\n",
    "        np.random.shuffle(indices)\n",
    "        X,Y = X[indices],y[indices]\n",
    "    X_train,y_train = X[:sl],y[:sl]\n",
    "    X_test,y_test = X[sl:],y[sl:]\n",
    "    return X_train,y_train,X_test,y_test"
   ]
  },
  {
   "cell_type": "markdown",
   "metadata": {},
   "source": [
    "Now lets split the data set into training and testing sets with a split ratio of 7:3."
   ]
  },
  {
   "cell_type": "code",
   "execution_count": 7,
   "metadata": {},
   "outputs": [],
   "source": [
    "X_train,y_train,X_test,y_test = train_test_split(X,y,.7)"
   ]
  },
  {
   "cell_type": "markdown",
   "metadata": {
    "tags": []
   },
   "source": [
    "## Calculating Squared euclidean distance"
   ]
  },
  {
   "cell_type": "markdown",
   "metadata": {},
   "source": [
    "The squared euclidean distance between two feature vectors (or data points) $\\mathbf{a} = (a_1,a_2,...,a_n)^T$ and $\\mathbf{b} = (b_1,b_2,...,b_n)^T$ can be computed as follows\n",
    "\n",
    "$$\n",
    "\\text{sqEuclidean}(\\mathbf{a},\\mathbf{b}) \n",
    "= \\sum_{i=0}^{n} (a_i - b_i)^2 \n",
    "= (\\mathbf{a}- \\mathbf{b}) \\cdot (\\mathbf{a} - \\mathbf{b}) \n",
    "= (\\mathbf{a} - \\mathbf{b})^T (\\mathbf{a} - \\mathbf{b})\n",
    "$$\n",
    "Lets discuss multiple methods the squrared euclidean function can be implemented with numpy.\n",
    "### One vs One\n",
    "To find the squared euclidean distance between two points $\\mathbf{a}$ and $\\mathbf{b}$\n"
   ]
  },
  {
   "cell_type": "code",
   "execution_count": 8,
   "metadata": {},
   "outputs": [],
   "source": [
    "def sq_euclidean_1(a,b):\n",
    "    \"\"\"Squared Euclidean distance using summation.\"\"\"\n",
    "    return np.sum((a-b)**2)\n",
    "\n",
    "def sq_euclidean_2(a,b):\n",
    "    \"\"\"Squrared Euclidean distance using dot product\"\"\"\n",
    "    diff = a-b\n",
    "    return np.dot(diff,diff)\n",
    "\n",
    "def sq_euclidean_3(a,b):\n",
    "    \"\"\"Squared Euclidean distance using matrix multiplication\"\"\"\n",
    "    diff = a-b\n",
    "    return diff.T @ diff"
   ]
  },
  {
   "cell_type": "code",
   "execution_count": 9,
   "metadata": {},
   "outputs": [
    {
     "name": "stdout",
     "output_type": "stream",
     "text": [
      "0.3178707190193263\n",
      "0.3178707190193263\n",
      "0.3178707190193263\n"
     ]
    }
   ],
   "source": [
    "a, b = X_train[0],X_train[1]\n",
    "print(sq_euclidean_1(a,b))\n",
    "print(sq_euclidean_2(a,b))\n",
    "print(sq_euclidean_3(a,b))"
   ]
  },
  {
   "cell_type": "markdown",
   "metadata": {
    "tags": []
   },
   "source": [
    "### Many vs One\n",
    "Now lets try to find the squared euclidean distance between a set of $m$ points $A$ and a point $b$\n"
   ]
  },
  {
   "cell_type": "code",
   "execution_count": 10,
   "metadata": {},
   "outputs": [
    {
     "name": "stdout",
     "output_type": "stream",
     "text": [
      "2.0541060222933143\n",
      "2.0541060222933143\n",
      "2.0541060222933143\n"
     ]
    }
   ],
   "source": [
    "A, b = X_train[:5],X_train[5]\n",
    "print(sq_euclidean_1(A,b))\n",
    "print(sq_euclidean_1(A,b)) \n",
    "print(sq_euclidean_1(A,b)) "
   ]
  },
  {
   "cell_type": "markdown",
   "metadata": {},
   "source": [
    "This is not the required result, we need $m = 5$ distances, thus the requried result must have the shape `(m,)`, in this case `(5,)`. \n",
    "\n",
    "So lets make changes to the code so that it could find m different distances."
   ]
  },
  {
   "cell_type": "code",
   "execution_count": 11,
   "metadata": {},
   "outputs": [],
   "source": [
    "def sq_euclidean_4(A,b):\n",
    "    \"\"\"Squared Euclidean distance using summation. Also supports A to be 2D\"\"\"\n",
    "    return np.sum((A-b)**2, axis =-1) #Here -1 denotes the last axis"
   ]
  },
  {
   "cell_type": "markdown",
   "metadata": {},
   "source": [
    "we cannot use dot product or matrix multiplication directly in this case because those funcions does not provide flexibility in specifying the axes on which the sum of products is calculated. Thus we could use `np.einsum` function to implement this."
   ]
  },
  {
   "cell_type": "code",
   "execution_count": 12,
   "metadata": {},
   "outputs": [],
   "source": [
    "def sq_euclidean_5(A,b):\n",
    "    \"\"\"Squared Euclidean distance using einstein summation. Also supports A to be 2D\"\"\"\n",
    "    diff = A-b # numpy broad casting is used here\n",
    "    return np.einsum(\"ij,ij->i\",diff,diff) "
   ]
  },
  {
   "cell_type": "code",
   "execution_count": 13,
   "metadata": {},
   "outputs": [
    {
     "name": "stdout",
     "output_type": "stream",
     "text": [
      "[0.31298594 0.17433988 0.19394755 0.16849053 1.20434212]\n",
      "[0.31298594 0.17433988 0.19394755 0.16849053 1.20434212]\n"
     ]
    }
   ],
   "source": [
    "A, b = X_train[:5],X_train[5]\n",
    "print(sq_euclidean_4(A,b))\n",
    "print(sq_euclidean_5(A,b)) "
   ]
  },
  {
   "cell_type": "markdown",
   "metadata": {},
   "source": [
    "Thus we get our expected results. "
   ]
  },
  {
   "cell_type": "markdown",
   "metadata": {
    "tags": []
   },
   "source": [
    "### Many vs Many"
   ]
  },
  {
   "cell_type": "markdown",
   "metadata": {},
   "source": [
    "Now lets compute the distances between set of $m$ points $A$ and set of $n$ points $B$. Thus we need $m\\times n$ distances and the expected shape is `(n,m)`. So to get the result as expected we make use of the array broadcasting feature in numpy.\n",
    "\n",
    "**Note:** Here `(n,m)` is used instead of `(m,n)` because it is assumed that B will be the set of test points. thus it is convenient to have it in the 0-th axis."
   ]
  },
  {
   "cell_type": "code",
   "execution_count": 14,
   "metadata": {},
   "outputs": [],
   "source": [
    "def sq_euclidean_6(A,B):\n",
    "    \"\"\"Squared Euclidean distance using summation. Also supports A and B to be 2D\"\"\"\n",
    "    return np.sum((A-B[:,np.newaxis,:])**2, axis =-1) \n",
    "\n",
    "def sq_euclidean_7(A,B):\n",
    "    \"\"\"Squared Euclidean distance using einstein summation. Also supports A and B to be 2D\"\"\"\n",
    "    diff = A-B[:,np.newaxis,:] \n",
    "    return np.einsum(\"ijk,ijk->ij\",diff,diff) # also added an additional dimension"
   ]
  },
  {
   "cell_type": "markdown",
   "metadata": {},
   "source": [
    "**Note:** The only difference between the previous set and this was the introuction of a new axis to allow numpy broadcating.\n",
    "Refer [this link](https://numpy.org/devdocs/user/theory.broadcasting.html) to know more about numpy array broadcasting rules"
   ]
  },
  {
   "cell_type": "code",
   "execution_count": 15,
   "metadata": {},
   "outputs": [
    {
     "name": "stdout",
     "output_type": "stream",
     "text": [
      "[[0.4827717  0.05087282 0.54448802]\n",
      " [0.839176   0.90589191 1.04147037]\n",
      " [0.31298594 0.17433988 0.19394755]\n",
      " [0.38682202 0.05719462 0.54931948]]\n",
      "[[0.4827717  0.05087282 0.54448802]\n",
      " [0.839176   0.90589191 1.04147037]\n",
      " [0.31298594 0.17433988 0.19394755]\n",
      " [0.38682202 0.05719462 0.54931948]]\n",
      "Shape of A = (3, 8) and Shape of B = (4, 8)\n",
      "Is dist6 and dist7 are same? True\n",
      "Shape of dist6 = (4, 3) and shape of dist7 = (4, 3)\n"
     ]
    }
   ],
   "source": [
    "A, B = X_train[:3],X_train[3:7]\n",
    "dist6 = sq_euclidean_6(A,B)\n",
    "dist7 = sq_euclidean_7(A,B)\n",
    "print(dist6)\n",
    "print(dist7) \n",
    "print(f\"Shape of A = {A.shape} and Shape of B = {B.shape}\")\n",
    "print(\"Is dist6 and dist7 are same?\",np.all(dist6 == dist7))\n",
    "print(f\"Shape of dist6 = {dist6.shape} and shape of dist7 = {dist7.shape}\")"
   ]
  },
  {
   "cell_type": "markdown",
   "metadata": {},
   "source": [
    "Now that we made our function accept two two dimensioal arrays, Lets generalize this so that it accepts $B$ in $N$ dimensions."
   ]
  },
  {
   "cell_type": "code",
   "execution_count": 16,
   "metadata": {},
   "outputs": [],
   "source": [
    "def sq_euclidean_8(A,B):\n",
    "    \"\"\"Squared Euclidean distance using summation. Supports A to be 2D and B to be N dimensional.\"\"\"\n",
    "    return np.sum((A-B[...,np.newaxis,:])**2, axis =-1) # added ellipsis to support N dimensions.\n",
    "\n",
    "def sq_euclidean_9(A,B):\n",
    "    \"\"\"Squared Euclidean distance using einstein summation. Supports A to be 2D and B to be N dimensional.\"\"\"\n",
    "    diff = A-B[...,np.newaxis,:] \n",
    "    return np.einsum(\"...i,...i->...\",diff,diff) # added ellipis to support N dimensions."
   ]
  },
  {
   "cell_type": "code",
   "execution_count": 17,
   "metadata": {},
   "outputs": [
    {
     "name": "stdout",
     "output_type": "stream",
     "text": [
      "[[[0.4827717  0.05087282 0.54448802]\n",
      "  [0.839176   0.90589191 1.04147037]\n",
      "  [0.31298594 0.17433988 0.19394755]]\n",
      "\n",
      " [[0.38682202 0.05719462 0.54931948]\n",
      "  [0.72359709 0.70798156 0.49305372]\n",
      "  [0.58316553 0.90399208 0.93269195]]]\n",
      "[[[0.4827717  0.05087282 0.54448802]\n",
      "  [0.839176   0.90589191 1.04147037]\n",
      "  [0.31298594 0.17433988 0.19394755]]\n",
      "\n",
      " [[0.38682202 0.05719462 0.54931948]\n",
      "  [0.72359709 0.70798156 0.49305372]\n",
      "  [0.58316553 0.90399208 0.93269195]]]\n",
      "Shape of A = (3, 8) and Shape of B = (2, 3, 8)\n",
      "Is dist6 and dist7 are same? True\n",
      "Shape of dist6 = (2, 3, 3) and shape of dist7 = (2, 3, 3)\n"
     ]
    }
   ],
   "source": [
    "A, B = X_train[:3],X_train[3:9].reshape(2,3,-1)\n",
    "dist8 = sq_euclidean_8(A,B)\n",
    "dist9 = sq_euclidean_9(A,B)\n",
    "print(dist8)\n",
    "print(dist9) \n",
    "print(f\"Shape of A = {A.shape} and Shape of B = {B.shape}\")\n",
    "print(\"Is dist6 and dist7 are same?\",np.all(dist8 == dist9))\n",
    "print(f\"Shape of dist6 = {dist8.shape} and shape of dist7 = {dist9.shape}\")"
   ]
  },
  {
   "cell_type": "markdown",
   "metadata": {
    "tags": []
   },
   "source": [
    "### Squared Euclidean distance using cdist"
   ]
  },
  {
   "cell_type": "markdown",
   "metadata": {
    "heading_collapsed": "true",
    "tags": []
   },
   "source": [
    "`cdist` is a function defined in the scipy library, which can be used to calculate the distances using various metrics including squared euclidean distance. But `cdist` require $A$ and $B$ to be strictly 2 dimensional. But we can reshape the array before passing it into it and after returning."
   ]
  },
  {
   "cell_type": "code",
   "execution_count": 18,
   "metadata": {},
   "outputs": [],
   "source": [
    "from scipy.spatial.distance import cdist"
   ]
  },
  {
   "cell_type": "code",
   "execution_count": 19,
   "metadata": {},
   "outputs": [],
   "source": [
    "def sq_euclidean_dist(A,B):\n",
    "    '''Returns Squared Euclidean Distance, between two set of points A and B using scipy.spatial.distance.cdist.\\\n",
    "Requires A to be 2-D and B can be N-D'''\n",
    "    m,n = A.shape\n",
    "    final_shape = *B.shape[:-1],m\n",
    "    return cdist(B.reshape(-1,n),A,metric=\"sqeuclidean\").reshape(final_shape)"
   ]
  },
  {
   "cell_type": "code",
   "execution_count": 20,
   "metadata": {},
   "outputs": [
    {
     "name": "stdout",
     "output_type": "stream",
     "text": [
      "[[[0.4827717  0.05087282 0.54448802]\n",
      "  [0.839176   0.90589191 1.04147037]\n",
      "  [0.31298594 0.17433988 0.19394755]]\n",
      "\n",
      " [[0.38682202 0.05719462 0.54931948]\n",
      "  [0.72359709 0.70798156 0.49305372]\n",
      "  [0.58316553 0.90399208 0.93269195]]]\n",
      "Shape of dist is : (2, 3, 3)\n"
     ]
    }
   ],
   "source": [
    "dist = sq_euclidean_dist(A,B) # B, A is used instead of A, B, to be consistent with out previous implementations.\n",
    "print(dist)\n",
    "print(\"Shape of dist is :\", dist.shape)"
   ]
  },
  {
   "cell_type": "code",
   "execution_count": 21,
   "metadata": {},
   "outputs": [
    {
     "data": {
      "text/plain": [
       "array([[[ True,  True,  True],\n",
       "        [ True,  True,  True],\n",
       "        [ True,  True,  True]],\n",
       "\n",
       "       [[ True,  True,  True],\n",
       "        [ True,  True,  True],\n",
       "        [ True,  True,  True]]])"
      ]
     },
     "execution_count": 21,
     "metadata": {},
     "output_type": "execute_result"
    }
   ],
   "source": [
    "sq_euclidean_9(A,B) == sq_euclidean_dist(A,B)"
   ]
  },
  {
   "cell_type": "markdown",
   "metadata": {
    "tags": []
   },
   "source": [
    "### Comparision of implementations"
   ]
  },
  {
   "cell_type": "code",
   "execution_count": 22,
   "metadata": {},
   "outputs": [
    {
     "name": "stdout",
     "output_type": "stream",
     "text": [
      "22 µs ± 997 ns per loop (mean ± std. dev. of 7 runs, 10000 loops each)\n"
     ]
    }
   ],
   "source": [
    "%%timeit\n",
    "sq_euclidean_8(A,B)"
   ]
  },
  {
   "cell_type": "code",
   "execution_count": 23,
   "metadata": {},
   "outputs": [
    {
     "name": "stdout",
     "output_type": "stream",
     "text": [
      "13.7 µs ± 434 ns per loop (mean ± std. dev. of 7 runs, 100000 loops each)\n"
     ]
    }
   ],
   "source": [
    "%%timeit\n",
    "sq_euclidean_9(A,B)"
   ]
  },
  {
   "cell_type": "code",
   "execution_count": 24,
   "metadata": {},
   "outputs": [
    {
     "name": "stdout",
     "output_type": "stream",
     "text": [
      "11.3 µs ± 1.09 µs per loop (mean ± std. dev. of 7 runs, 100000 loops each)\n"
     ]
    }
   ],
   "source": [
    "%%timeit\n",
    "sq_euclidean_dist(A,B)"
   ]
  },
  {
   "cell_type": "markdown",
   "metadata": {},
   "source": [
    "From the above implementations it is clear that the `sq_euclidean_dist` (using cdist) perfroms the fastest among our implementations."
   ]
  },
  {
   "cell_type": "markdown",
   "metadata": {
    "tags": []
   },
   "source": [
    "## Finding the y Values of the k nearest neignbours"
   ]
  },
  {
   "cell_type": "markdown",
   "metadata": {
    "heading_collapsed": "true"
   },
   "source": [
    "Now lets find the y values of the k nearest neighbours.\n",
    "To do that \n",
    "1. Use the `np.argsort` to get the indices in order of distances in acending order. \n",
    "2. Slice the first k indices to get the indices of the k nearest neignbours\n",
    "3. by using indexing on y with the computed indices, we get the required y values"
   ]
  },
  {
   "cell_type": "code",
   "execution_count": 25,
   "metadata": {},
   "outputs": [
    {
     "name": "stdout",
     "output_type": "stream",
     "text": [
      "[1 0 0]\n",
      "[0 0 0]\n",
      "[1 0 0]\n"
     ]
    }
   ],
   "source": [
    "k = 3\n",
    "k_nearest_ys = y_train[np.argsort(sq_euclidean_dist(X_train,X_test))[...,:k]]\n",
    "print(\n",
    "    k_nearest_ys[0],\n",
    "    k_nearest_ys[3],\n",
    "    k_nearest_ys[5],\n",
    "    sep=\"\\n\"\n",
    ")"
   ]
  },
  {
   "cell_type": "markdown",
   "metadata": {
    "tags": []
   },
   "source": [
    "## Majority voting for calssification"
   ]
  },
  {
   "cell_type": "markdown",
   "metadata": {},
   "source": [
    "1. Find the classes available in the training using `np.unique` and store it in `classes`\n",
    "2. Compute the equality tensor for each point by equating it with the classes in a fashion similar to outer product.\n",
    "3. Compute the sum of the equality tensor to get the comut tensor, containing the count of each classes among the nearest neighbours.\n",
    "4. Using the `np.argmax` find the index of the class with the maximum count among the nearest neighbours.\n",
    "5. Get the class name from at the found index by indexing the `classes`"
   ]
  },
  {
   "cell_type": "code",
   "execution_count": 26,
   "metadata": {},
   "outputs": [
    {
     "name": "stdout",
     "output_type": "stream",
     "text": [
      "Nearest ys of 0, 3 and 5\n",
      "[1 0 0]\n",
      "[0 0 0]\n",
      "[1 0 0]\n",
      "Equality tensor of 0, 3 and 5\n",
      "[[False  True  True]\n",
      " [ True False False]]\n",
      "[[ True  True  True]\n",
      " [False False False]]\n",
      "[[False  True  True]\n",
      " [ True False False]]\n",
      "Count tensor of 0, 3 and 5\n",
      "[2 1]\n",
      "[3 0]\n",
      "[2 1]\n",
      "Max count class index of 0, 3 and 5\n",
      "0\n",
      "0\n",
      "0\n",
      "Predicted class of 0, 3 and 5\n",
      "0\n",
      "0\n",
      "0\n"
     ]
    }
   ],
   "source": [
    "classes = np.unique(y_train)\n",
    "equality_tensor = k_nearest_ys[...,np.newaxis,:] == classes.reshape(-1,1)\n",
    "count_tensor = np.sum(equality_tensor,axis = -1)\n",
    "max_count_class_index = np.argmax(count_tensor, axis = -1)\n",
    "y_hat = classes[max_count_class_index]\n",
    "print(\n",
    "    \"Nearest ys of 0, 3 and 5\",\n",
    "    k_nearest_ys[0],\n",
    "    k_nearest_ys[3],\n",
    "    k_nearest_ys[5],\n",
    "    sep=\"\\n\"\n",
    ")\n",
    "print(\n",
    "    \"Equality tensor of 0, 3 and 5\",\n",
    "    equality_tensor[0],\n",
    "    equality_tensor[3],\n",
    "    equality_tensor[5],\n",
    "    sep=\"\\n\"\n",
    ")\n",
    "print(\n",
    "    \"Count tensor of 0, 3 and 5\",\n",
    "    count_tensor[0],\n",
    "    count_tensor[3],\n",
    "    count_tensor[5],\n",
    "    sep=\"\\n\"\n",
    ")\n",
    "print(\n",
    "    \"Max count class index of 0, 3 and 5\",\n",
    "    max_count_class_index[0],\n",
    "    max_count_class_index[3],\n",
    "    max_count_class_index[5],\n",
    "    sep=\"\\n\"\n",
    ")\n",
    "print(\n",
    "    \"Predicted class of 0, 3 and 5\",\n",
    "    y_hat[0],\n",
    "    y_hat[3],\n",
    "    y_hat[5],\n",
    "    sep=\"\\n\"\n",
    ")"
   ]
  },
  {
   "cell_type": "markdown",
   "metadata": {
    "tags": []
   },
   "source": [
    "## Class for KNN Classifier"
   ]
  },
  {
   "cell_type": "markdown",
   "metadata": {},
   "source": [
    "Lets Ecapsulate everything we discussed into a python class"
   ]
  },
  {
   "cell_type": "code",
   "execution_count": 27,
   "metadata": {},
   "outputs": [],
   "source": [
    "class KNN:\n",
    "    '''Base class for KNN'''\n",
    "    def __init__(self,k=3,weights:{'uniform','distance'}='uniform',dist=sq_euclidean_dist):\n",
    "        self.dist = dist\n",
    "        self.k = k\n",
    "    \n",
    "    def fit(self,X_train,y_train):\n",
    "        self.X_train = X_train\n",
    "        self.y_train = y_train\n",
    "        \n",
    "    def k_nearest_ys(self,X_test):\n",
    "        '''Returns the y values of the k nearest neighbours.\\ \n",
    "This is computed for both classification and regression.'''\n",
    "        return self.y_train[np.argsort(self.dist(self.X_train,X_test))[...,:self.k]]\n",
    "    \n",
    "class KNNClassifier(KNN):\n",
    "    \"\"\"K Nearest Neighbour Classifier\"\"\"\n",
    "    def fit(self,X_train,y_train):\n",
    "        super().fit(X_train, y_train)\n",
    "        self.classes = np.unique(y_train)\n",
    "    \n",
    "    def predict(self,X_test):\n",
    "        '''Returns the predicted class for the points in test_x, i.e, classification result'''\n",
    "        return self.classes[\n",
    "            np.argmax(\n",
    "                np.sum(\n",
    "                    self.k_nearest_ys(X_test)[...,np.newaxis,:] == self.classes.reshape(-1,1),\n",
    "                    axis = -1\n",
    "                ),\n",
    "                axis=-1\n",
    "            )\n",
    "        ]        "
   ]
  },
  {
   "cell_type": "markdown",
   "metadata": {
    "tags": []
   },
   "source": [
    "## Implementing the KNN classifier"
   ]
  },
  {
   "cell_type": "markdown",
   "metadata": {},
   "source": [
    "### Evaluation metrics for classifier"
   ]
  },
  {
   "cell_type": "code",
   "execution_count": 28,
   "metadata": {},
   "outputs": [],
   "source": [
    "def classifier_accuracy(y_test, y_pred,in_percent=False):\n",
    "    '''Returns the Classifier accuarcy of the classifier.It is defined as  \n",
    "(no. of correct classifications) / (no. of test items)'''\n",
    "    accuracy = (y_pred == y_test).mean()\n",
    "    if in_percent : return accuracy*100\n",
    "    return accuarcy"
   ]
  },
  {
   "cell_type": "markdown",
   "metadata": {},
   "source": [
    "### Evaluating the Classifier model"
   ]
  },
  {
   "cell_type": "code",
   "execution_count": 29,
   "metadata": {},
   "outputs": [
    {
     "name": "stdout",
     "output_type": "stream",
     "text": [
      "Acuracy of the classifier is : 76.623 %\n"
     ]
    }
   ],
   "source": [
    "diabetes_predictor = KNNClassifier(k = 3)\n",
    "diabetes_predictor.fit(X_train,y_train)\n",
    "y_pred = diabetes_predictor.predict(X_test)\n",
    "print(f\"Acuracy of the classifier is : {classifier_accuracy(y_test,y_pred,in_percent = True):.3f} %\",)"
   ]
  },
  {
   "cell_type": "markdown",
   "metadata": {},
   "source": [
    "### Evaluating with multiple values for k (Hyperparamer tuning)"
   ]
  },
  {
   "cell_type": "code",
   "execution_count": 30,
   "metadata": {},
   "outputs": [
    {
     "name": "stdout",
     "output_type": "stream",
     "text": [
      "Acuracy of the classifier with k = 4 is : 77.922 %\n",
      "Acuracy of the classifier with k = 5 is : 75.325 %\n",
      "Acuracy of the classifier with k = 6 is : 74.459 %\n"
     ]
    }
   ],
   "source": [
    "for k in range(4,7):\n",
    "    diabetes_predictor = KNNClassifier(k = k)\n",
    "    diabetes_predictor.fit(X_train,y_train)\n",
    "    y_pred = diabetes_predictor.predict(X_test)\n",
    "    print(f\"Acuracy of the classifier with k = {k} is : {classifier_accuracy(y_test,y_pred,in_percent = True):.3f} %\",)"
   ]
  },
  {
   "cell_type": "markdown",
   "metadata": {},
   "source": [
    "Thus by varying the the value of $k$ the optimal value of k is found to be **4**.  \n",
    "**Note:** The process of finding the optimal values for the hyper parameters is called as hyper parameter tuning"
   ]
  },
  {
   "cell_type": "markdown",
   "metadata": {
    "tags": []
   },
   "source": [
    "## Comparing our KNNClassifier with sklearn KNeighboursClassifier"
   ]
  },
  {
   "cell_type": "markdown",
   "metadata": {
    "tags": []
   },
   "source": [
    "### Importing sklearn KNN Classifier"
   ]
  },
  {
   "cell_type": "code",
   "execution_count": 31,
   "metadata": {},
   "outputs": [],
   "source": [
    "from sklearn.neighbors import KNeighborsClassifier"
   ]
  },
  {
   "cell_type": "markdown",
   "metadata": {},
   "source": [
    "### Evaluating SkLearn KNN classifier"
   ]
  },
  {
   "cell_type": "code",
   "execution_count": 32,
   "metadata": {},
   "outputs": [
    {
     "name": "stdout",
     "output_type": "stream",
     "text": [
      "Acuracy of the SkLearn classifier is :77.922\n"
     ]
    }
   ],
   "source": [
    "skl_diabetes_predictor = KNeighborsClassifier(4)\n",
    "skl_diabetes_predictor.fit(X_train,y_train)\n",
    "y_pred = skl_diabetes_predictor.predict(X_test)\n",
    "print(f\"Acuracy of the SkLearn classifier is :{classifier_accuracy(y_test,y_pred,True):.3f}\",)"
   ]
  },
  {
   "cell_type": "markdown",
   "metadata": {
    "tags": []
   },
   "source": [
    "# KNN Regressor"
   ]
  },
  {
   "cell_type": "markdown",
   "metadata": {
    "tags": []
   },
   "source": [
    "## Loading and processing Real estate Dataset (For Regression)"
   ]
  },
  {
   "cell_type": "code",
   "execution_count": 33,
   "metadata": {},
   "outputs": [
    {
     "data": {
      "text/html": [
       "<div>\n",
       "<style scoped>\n",
       "    .dataframe tbody tr th:only-of-type {\n",
       "        vertical-align: middle;\n",
       "    }\n",
       "\n",
       "    .dataframe tbody tr th {\n",
       "        vertical-align: top;\n",
       "    }\n",
       "\n",
       "    .dataframe thead th {\n",
       "        text-align: right;\n",
       "    }\n",
       "</style>\n",
       "<table border=\"1\" class=\"dataframe\">\n",
       "  <thead>\n",
       "    <tr style=\"text-align: right;\">\n",
       "      <th></th>\n",
       "      <th>No</th>\n",
       "      <th>X1 transaction date</th>\n",
       "      <th>X2 house age</th>\n",
       "      <th>X3 distance to the nearest MRT station</th>\n",
       "      <th>X4 number of convenience stores</th>\n",
       "      <th>X5 latitude</th>\n",
       "      <th>X6 longitude</th>\n",
       "      <th>Y house price of unit area</th>\n",
       "    </tr>\n",
       "  </thead>\n",
       "  <tbody>\n",
       "    <tr>\n",
       "      <th>0</th>\n",
       "      <td>1</td>\n",
       "      <td>2012.917</td>\n",
       "      <td>32.0</td>\n",
       "      <td>84.87882</td>\n",
       "      <td>10</td>\n",
       "      <td>24.98298</td>\n",
       "      <td>121.54024</td>\n",
       "      <td>37.9</td>\n",
       "    </tr>\n",
       "    <tr>\n",
       "      <th>1</th>\n",
       "      <td>2</td>\n",
       "      <td>2012.917</td>\n",
       "      <td>19.5</td>\n",
       "      <td>306.59470</td>\n",
       "      <td>9</td>\n",
       "      <td>24.98034</td>\n",
       "      <td>121.53951</td>\n",
       "      <td>42.2</td>\n",
       "    </tr>\n",
       "    <tr>\n",
       "      <th>2</th>\n",
       "      <td>3</td>\n",
       "      <td>2013.583</td>\n",
       "      <td>13.3</td>\n",
       "      <td>561.98450</td>\n",
       "      <td>5</td>\n",
       "      <td>24.98746</td>\n",
       "      <td>121.54391</td>\n",
       "      <td>47.3</td>\n",
       "    </tr>\n",
       "    <tr>\n",
       "      <th>3</th>\n",
       "      <td>4</td>\n",
       "      <td>2013.500</td>\n",
       "      <td>13.3</td>\n",
       "      <td>561.98450</td>\n",
       "      <td>5</td>\n",
       "      <td>24.98746</td>\n",
       "      <td>121.54391</td>\n",
       "      <td>54.8</td>\n",
       "    </tr>\n",
       "    <tr>\n",
       "      <th>4</th>\n",
       "      <td>5</td>\n",
       "      <td>2012.833</td>\n",
       "      <td>5.0</td>\n",
       "      <td>390.56840</td>\n",
       "      <td>5</td>\n",
       "      <td>24.97937</td>\n",
       "      <td>121.54245</td>\n",
       "      <td>43.1</td>\n",
       "    </tr>\n",
       "  </tbody>\n",
       "</table>\n",
       "</div>"
      ],
      "text/plain": [
       "   No  X1 transaction date  X2 house age  \\\n",
       "0   1             2012.917          32.0   \n",
       "1   2             2012.917          19.5   \n",
       "2   3             2013.583          13.3   \n",
       "3   4             2013.500          13.3   \n",
       "4   5             2012.833           5.0   \n",
       "\n",
       "   X3 distance to the nearest MRT station  X4 number of convenience stores  \\\n",
       "0                                84.87882                               10   \n",
       "1                               306.59470                                9   \n",
       "2                               561.98450                                5   \n",
       "3                               561.98450                                5   \n",
       "4                               390.56840                                5   \n",
       "\n",
       "   X5 latitude  X6 longitude  Y house price of unit area  \n",
       "0     24.98298     121.54024                        37.9  \n",
       "1     24.98034     121.53951                        42.2  \n",
       "2     24.98746     121.54391                        47.3  \n",
       "3     24.98746     121.54391                        54.8  \n",
       "4     24.97937     121.54245                        43.1  "
      ]
     },
     "execution_count": 33,
     "metadata": {},
     "output_type": "execute_result"
    }
   ],
   "source": [
    "real_estate_df = pd.read_csv(\"datasets/real-estate.csv\")\n",
    "real_estate_df.head()"
   ]
  },
  {
   "cell_type": "markdown",
   "metadata": {},
   "source": [
    "### Spliting Training and Testing data"
   ]
  },
  {
   "cell_type": "markdown",
   "metadata": {},
   "source": [
    "Here we also get rid of the first column (No) since it does not help in regression"
   ]
  },
  {
   "cell_type": "code",
   "execution_count": 34,
   "metadata": {},
   "outputs": [],
   "source": [
    "X = real_estate_df.iloc[:,1:-1].values \n",
    "y = real_estate_df.iloc[:,-1].values"
   ]
  },
  {
   "cell_type": "markdown",
   "metadata": {},
   "source": [
    "### Min - Max Normalization (Min - Max scaling)"
   ]
  },
  {
   "cell_type": "code",
   "execution_count": 35,
   "metadata": {},
   "outputs": [
    {
     "data": {
      "text/plain": [
       "array([[4.21017464e+03, 7.30593607e-01, 2.33959697e+01, 1.00000000e+00,\n",
       "        3.27682676e+02, 1.43202173e+03],\n",
       "       [4.21017464e+03, 4.45205479e-01, 2.34302664e+01, 9.00000000e-01,\n",
       "        3.27650684e+02, 1.43201386e+03],\n",
       "       [4.21090172e+03, 3.03652968e-01, 2.34697721e+01, 5.00000000e-01,\n",
       "        3.27736966e+02, 1.43206130e+03],\n",
       "       ...,\n",
       "       [4.21053818e+03, 4.29223744e-01, 2.34433182e+01, 7.00000000e-01,\n",
       "        3.27637232e+02, 1.43201763e+03],\n",
       "       [4.21026525e+03, 1.84931507e-01, 2.33990528e+01, 5.00000000e-01,\n",
       "        3.27485875e+02, 1.43202637e+03],\n",
       "       [4.21081110e+03, 1.48401826e-01, 2.33968324e+01, 9.00000000e-01,\n",
       "        3.27577853e+02, 1.43205257e+03]])"
      ]
     },
     "execution_count": 35,
     "metadata": {},
     "output_type": "execute_result"
    }
   ],
   "source": [
    "X_min, X_max = X.min(axis = 0) , X.max(axis =0)\n",
    "X = X_min + X/(X_max-X_min)\n",
    "X "
   ]
  },
  {
   "cell_type": "markdown",
   "metadata": {},
   "source": [
    "### Train - Test split"
   ]
  },
  {
   "cell_type": "code",
   "execution_count": 36,
   "metadata": {},
   "outputs": [],
   "source": [
    "X_train,y_train,X_test,y_test = train_test_split(X,y,.7)"
   ]
  },
  {
   "cell_type": "markdown",
   "metadata": {
    "tags": []
   },
   "source": [
    "## Average and Distance weighted average for regression"
   ]
  },
  {
   "cell_type": "markdown",
   "metadata": {},
   "source": [
    "For regression we use the Average or distance wighted average of the K nearest neighbours as the predicted value.\n",
    "### Using Average\n",
    "$$\n",
    "\\hat y = \\frac{\\displaystyle\\sum_{x_i \\in \\text{KNN}} y_i}{k} = \\frac{\\displaystyle \\mathbf{y}_\\text{KNN} \\cdot \\mathbf{1}}{k}\n",
    "$$\n",
    "\n",
    "### Using Distance weighted average\n",
    "$$\n",
    "\\hat y = \\frac{\\displaystyle \\sum_{x_i \\in \\text{KNN}} \\frac{y_i}{d_i} }{\\displaystyle \\sum_{x_i \\in \\text{KNN}} \\frac{1}{d_i}}\n",
    "= \\frac{\\displaystyle\\frac{1}{\\mathbf{d}_\\text{KNN}}\\cdot \\mathbf{y}_\\text{KNN}}{\\displaystyle \\frac{1}{\\mathbf{d}_\\text{KNN}}.\\mathbf{1}}\n",
    "$$\n",
    "where, $d_i$ is the distance from the test point to the $i$th training point."
   ]
  },
  {
   "cell_type": "markdown",
   "metadata": {
    "tags": []
   },
   "source": [
    "## Class For KNN Regressor"
   ]
  },
  {
   "cell_type": "code",
   "execution_count": 40,
   "metadata": {},
   "outputs": [],
   "source": [
    "class KNNRegressor(KNN):\n",
    "    '''K Nearest Neighbour Regressor'''\n",
    "    \n",
    "    def predict(self, X_test):\n",
    "        '''Returns the predicted y values for the points in test_x, i.e, regression result.'''\n",
    "        return np.mean(self.k_nearest_ys(X_test), axis = -1)"
   ]
  },
  {
   "cell_type": "markdown",
   "metadata": {
    "tags": []
   },
   "source": [
    "## Implementing the KNN Regressor"
   ]
  },
  {
   "cell_type": "code",
   "execution_count": 41,
   "metadata": {},
   "outputs": [],
   "source": [
    "housing_price_predictor = KNNRegressor(k = 3)\n",
    "housing_price_predictor.fit(X_train,y_train)\n",
    "y_pred = housing_price_predictor.predict(X_test)"
   ]
  },
  {
   "cell_type": "markdown",
   "metadata": {},
   "source": [
    "### Evaluating KNN Regressor"
   ]
  },
  {
   "cell_type": "code",
   "execution_count": 42,
   "metadata": {},
   "outputs": [
    {
     "name": "stdout",
     "output_type": "stream",
     "text": [
      "Root Mean Squared Error 8.065\n"
     ]
    }
   ],
   "source": [
    "rmse = np.sqrt(np.mean((y_test-y_pred)**2))\n",
    "print(f\"Root Mean Squared Error {rmse:.3f}\")"
   ]
  },
  {
   "cell_type": "markdown",
   "metadata": {},
   "source": [
    "### Evaluating KNN Regressor for multiple values of k"
   ]
  },
  {
   "cell_type": "code",
   "execution_count": 43,
   "metadata": {},
   "outputs": [
    {
     "name": "stdout",
     "output_type": "stream",
     "text": [
      "Root Mean Squared Error 7.686\n",
      "Root Mean Squared Error 7.481\n",
      "Root Mean Squared Error 7.601\n",
      "Root Mean Squared Error 7.617\n",
      "Root Mean Squared Error 7.698\n",
      "Root Mean Squared Error 7.558\n"
     ]
    }
   ],
   "source": [
    "for k in range(4,10):\n",
    "    housing_price_predictor = KNNRegressor(k = k)\n",
    "    housing_price_predictor.fit(X_train,y_train)\n",
    "    y_pred = housing_price_predictor.predict(X_test)\n",
    "    rmse = np.sqrt(np.mean((y_test-y_pred)**2))\n",
    "    print(f\"Root Mean Squared Error {rmse:.3f}\")"
   ]
  },
  {
   "cell_type": "markdown",
   "metadata": {
    "tags": []
   },
   "source": [
    "## Comparing our KNNRegressor with sklearn KNeighboursRegressor"
   ]
  },
  {
   "cell_type": "markdown",
   "metadata": {},
   "source": [
    "### Importing sklearn KNN Regressor"
   ]
  },
  {
   "cell_type": "code",
   "execution_count": 44,
   "metadata": {},
   "outputs": [],
   "source": [
    "from sklearn.neighbors import KNeighborsRegressor\n",
    "from sklearn.metrics import mean_squared_error"
   ]
  },
  {
   "cell_type": "code",
   "execution_count": 45,
   "metadata": {},
   "outputs": [],
   "source": [
    "skl_housing_price_predictor = KNeighborsRegressor(3)\n",
    "skl_housing_price_predictor.fit(X_train,y_train)\n",
    "y_pred = skl_housing_price_predictor.predict(X_test)"
   ]
  },
  {
   "cell_type": "markdown",
   "metadata": {},
   "source": [
    "### Evaluating SkLearn KNN Regressor"
   ]
  },
  {
   "cell_type": "code",
   "execution_count": 46,
   "metadata": {
    "tags": []
   },
   "outputs": [
    {
     "name": "stdout",
     "output_type": "stream",
     "text": [
      "Root Mean Squared Error 8.070\n"
     ]
    }
   ],
   "source": [
    "rmse = np.sqrt(np.mean((y_test-y_pred)**2))\n",
    "print(f\"Root Mean Squared Error {rmse:.3f}\")"
   ]
  }
 ],
 "metadata": {
  "kernelspec": {
   "display_name": "Python 3.8.3 64-bit ('base': conda)",
   "language": "python",
   "name": "python383jvsc74a57bd080f98785f637b0b79488115f608fbecae5ee636b6d8a4943a9370efadf47a72f"
  },
  "language_info": {
   "codemirror_mode": {
    "name": "ipython",
    "version": 3
   },
   "file_extension": ".py",
   "mimetype": "text/x-python",
   "name": "python",
   "nbconvert_exporter": "python",
   "pygments_lexer": "ipython3",
   "version": "3.8.10"
  },
  "toc-autonumbering": true,
  "toc-showcode": false,
  "toc-showmarkdowntxt": false,
  "toc-showtags": false
 },
 "nbformat": 4,
 "nbformat_minor": 4
}
